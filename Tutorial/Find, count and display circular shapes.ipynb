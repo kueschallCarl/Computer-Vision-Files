{
 "cells": [
  {
   "cell_type": "code",
   "execution_count": 3,
   "id": "61bf1d8f",
   "metadata": {},
   "outputs": [],
   "source": [
    "import numpy as np\n",
    "import cv2\n",
    "img = cv2.imread('smarties.jpg')\n",
    "output = img.copy()\n",
    "gray = cv2.cvtColor(img, cv2.COLOR_BGR2GRAY)\n",
    "\n",
    "gray = cv2.medianBlur(gray, 5)\n",
    "circles = cv2.HoughCircles(gray, cv2.HOUGH_GRADIENT, 1, 20, param1 = 50, param2 =30, minRadius = 0,\n",
    "                         maxRadius = 0)\n",
    "\n",
    "detected_circles = np.uint16(np.around(circles))\n",
    "for (x,y,r) in detected_circles[0, :]:\n",
    "    #cv.circle(img, center_coords as tuple, radius, color as tuple, thickness)\n",
    "    cv2.circle(output, (x,y), r, (0, 255, 0), 3)\n",
    "    cv2.circle(output, (x,y), 2, (0, 255, 255), 3)    \n",
    "    \n",
    "    \n",
    "cv2.imshow('output', output)\n",
    "cv2.waitKey(0)\n",
    "cv2.destroyAllWindows()"
   ]
  },
  {
   "cell_type": "code",
   "execution_count": 4,
   "id": "960087bb",
   "metadata": {},
   "outputs": [
    {
     "data": {
      "text/plain": [
       "array([[[228, 232,  29],\n",
       "        [108, 288,  31],\n",
       "        [386, 262,  31],\n",
       "        [420,  88,  30],\n",
       "        [148, 362,  30],\n",
       "        [298, 128,  30],\n",
       "        [244, 338,  33],\n",
       "        [430, 186,  30],\n",
       "        [328, 358,  29],\n",
       "        [166, 300,  31],\n",
       "        [320, 236,  30],\n",
       "        [ 36, 252,  30]]], dtype=uint16)"
      ]
     },
     "execution_count": 4,
     "metadata": {},
     "output_type": "execute_result"
    }
   ],
   "source": [
    "detected_circles"
   ]
  }
 ],
 "metadata": {
  "kernelspec": {
   "display_name": "Python 3 (ipykernel)",
   "language": "python",
   "name": "python3"
  },
  "language_info": {
   "codemirror_mode": {
    "name": "ipython",
    "version": 3
   },
   "file_extension": ".py",
   "mimetype": "text/x-python",
   "name": "python",
   "nbconvert_exporter": "python",
   "pygments_lexer": "ipython3",
   "version": "3.9.11"
  }
 },
 "nbformat": 4,
 "nbformat_minor": 5
}
