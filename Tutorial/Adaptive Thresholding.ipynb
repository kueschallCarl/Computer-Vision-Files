{
 "cells": [
  {
   "cell_type": "code",
   "execution_count": 1,
   "id": "691d78f4",
   "metadata": {},
   "outputs": [],
   "source": [
    "import cv2\n",
    "import numpy as np\n",
    "\n",
    " \n",
    "img = cv2.imread('sudoku.jpg',0)\n",
    "#ADAPTIVE_THRESH_MEAN_C = the threshold value T(x,y) is a mean of the blockSize * blockSize neighborhood\n",
    "# of (x,y) minus C\n",
    "th2 = cv2.adaptiveThreshold(img, 255, cv2.ADAPTIVE_THRESH_MEAN_C,  cv2.THRESH_BINARY, 11, 2)\n",
    "#ADAPTIVE_THRESH_GAUSSIAN_C = the threshold value T(x,y) is a weighted sum of the blockSize * blockSize \n",
    "#neighborhoood of (x,y) minus C. The default sigma(standard deviation) is used for the blockSize\n",
    "th3 = cv2.adaptiveThreshold(img, 255, cv2.ADAPTIVE_THRESH_GAUSSIAN_C,  cv2.THRESH_BINARY, 11, 2)\n",
    "\n",
    "    \n",
    "cv2.imshow(\"Image\", img)\n",
    "cv2.imshow(\"th2\", th2)\n",
    "cv2.imshow(\"th3\", th3)\n",
    "\n",
    "\n",
    "\n",
    "cv2.waitKey(0)\n",
    "cv2.destroyAllWindows()"
   ]
  }
 ],
 "metadata": {
  "kernelspec": {
   "display_name": "Python 3 (ipykernel)",
   "language": "python",
   "name": "python3"
  },
  "language_info": {
   "codemirror_mode": {
    "name": "ipython",
    "version": 3
   },
   "file_extension": ".py",
   "mimetype": "text/x-python",
   "name": "python",
   "nbconvert_exporter": "python",
   "pygments_lexer": "ipython3",
   "version": "3.9.11"
  }
 },
 "nbformat": 4,
 "nbformat_minor": 5
}
