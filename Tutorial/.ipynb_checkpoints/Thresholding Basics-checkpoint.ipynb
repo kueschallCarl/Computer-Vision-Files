{
 "cells": [
  {
   "cell_type": "code",
   "execution_count": 13,
   "id": "16912143",
   "metadata": {},
   "outputs": [],
   "source": [
    "import cv2\n",
    "import numpy as np\n",
    "\n",
    " \n",
    "img = cv2.imread('gradient.jpg',0)\n",
    "\n",
    "#if px<127 -> 0, if greater -> 255 (changeable in third param)\n",
    "#cv2.threshold(source, threshold, what greater values should change to, method)\n",
    "_, th1 = cv2.threshold(img, 127, 255, cv2.THRESH_BINARY) \n",
    "#the other way round\n",
    "_, th2 = cv2.threshold(img, 127, 255, cv2.THRESH_BINARY_INV)  \n",
    "#from the threshold onwards, the value will stay the same as the threshold\n",
    "_, th3 = cv2.threshold(img, 100, 255, cv2.THRESH_TRUNC)  \n",
    "#everything below the threshold will be zero, greater than will stay the same\n",
    "_, th4 = cv2.threshold(img, 100, 255, cv2.THRESH_TOZERO)    \n",
    "#other way round\n",
    "_, th5 = cv2.threshold(img, 100, 255, cv2.THRESH_TOZERO_INV)    \n",
    "\n",
    "\n",
    "\n",
    "    \n",
    "cv2.imshow(\"Image\", img)\n",
    "cv2.imshow(\"th1\", th1)  \n",
    "cv2.imshow(\"th2\", th2)  \n",
    "cv2.imshow(\"th3\", th3)  \n",
    "cv2.imshow(\"th4\", th4)  \n",
    "cv2.imshow(\"th5\", th5)  \n",
    "\n",
    "\n",
    "\n",
    "\n",
    "\n",
    "cv2.waitKey(0)\n",
    "cv2.destroyAllWindows()"
   ]
  }
 ],
 "metadata": {
  "kernelspec": {
   "display_name": "Python 3 (ipykernel)",
   "language": "python",
   "name": "python3"
  },
  "language_info": {
   "codemirror_mode": {
    "name": "ipython",
    "version": 3
   },
   "file_extension": ".py",
   "mimetype": "text/x-python",
   "name": "python",
   "nbconvert_exporter": "python",
   "pygments_lexer": "ipython3",
   "version": "3.9.11"
  }
 },
 "nbformat": 4,
 "nbformat_minor": 5
}
