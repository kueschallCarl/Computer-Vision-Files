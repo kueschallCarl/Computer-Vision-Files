{
 "cells": [
  {
   "cell_type": "code",
   "execution_count": null,
   "id": "e74ca60b",
   "metadata": {},
   "outputs": [],
   "source": [
    "import cv2\n",
    "from sklearn.metrics import f1_score\n",
    "\n",
    "# Load the thresholded image and the ground truth image\n",
    "thresholded_img = cv2.imread('thresholded_image.png', cv2.IMREAD_GRAYSCALE)\n",
    "ground_truth_img = cv2.imread('ground_truth_image.png', cv2.IMREAD_GRAYSCALE)\n",
    "\n",
    "# Flatten the images to 1D arrays for F1 score calculation\n",
    "thresholded_flat = thresholded_img.flatten()\n",
    "ground_truth_flat = ground_truth_img.flatten()\n",
    "\n",
    "# Calculate the F1 score\n",
    "f1 = f1_score(ground_truth_flat, thresholded_flat, pos_label=255)\n",
    "\n",
    "# Print the F1 score\n",
    "print('F1 score:', f1)\n"
   ]
  }
 ],
 "metadata": {
  "kernelspec": {
   "display_name": "Python 3 (ipykernel)",
   "language": "python",
   "name": "python3"
  },
  "language_info": {
   "codemirror_mode": {
    "name": "ipython",
    "version": 3
   },
   "file_extension": ".py",
   "mimetype": "text/x-python",
   "name": "python",
   "nbconvert_exporter": "python",
   "pygments_lexer": "ipython3",
   "version": "3.9.11"
  }
 },
 "nbformat": 4,
 "nbformat_minor": 5
}
