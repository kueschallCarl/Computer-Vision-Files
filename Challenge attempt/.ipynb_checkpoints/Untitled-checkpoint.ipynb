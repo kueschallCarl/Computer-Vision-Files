{
 "cells": [
  {
   "cell_type": "code",
   "execution_count": 1,
   "id": "e782309b",
   "metadata": {},
   "outputs": [],
   "source": [
    "import cv2\n",
    "import numpy as np\n",
    "from matplotlib import pyplot as plt\n",
    "\n",
    "def nothing(x):\n",
    "    pass\n",
    "cv2.namedWindow(\"Tracking\")\n",
    "cv2.createTrackbar(\"LH\", \"Tracking\", 0, 255, nothing)\n",
    "cv2.createTrackbar(\"LS\", \"Tracking\", 0, 255, nothing) \n",
    "cv2.createTrackbar(\"LV\", \"Tracking\", 0, 255, nothing)\n",
    "cv2.createTrackbar(\"UH\", \"Tracking\", 255, 255, nothing)\n",
    "cv2.createTrackbar(\"US\", \"Tracking\", 255, 255, nothing)\n",
    "cv2.createTrackbar(\"UV\", \"Tracking\", 255, 255, nothing)\n",
    "\n",
    "\n",
    "low_green = np.array([158, 206, 254])\n",
    "high_green = np.array([159, 206, 254])\n",
    "\n",
    "while True:\n",
    "    img = cv2.imread('find_rabbits.jpg')\n",
    "      \n",
    "    l_h = cv2.getTrackbarPos(\"LH\", \"Tracking\")\n",
    "    l_s = cv2.getTrackbarPos(\"LS\", \"Tracking\")\n",
    "    l_v = cv2.getTrackbarPos(\"LV\", \"Tracking\")\n",
    "    \n",
    "    u_h = cv2.getTrackbarPos(\"UH\", \"Tracking\")\n",
    "    u_s = cv2.getTrackbarPos(\"US\", \"Tracking\")\n",
    "    u_v = cv2.getTrackbarPos(\"UV\", \"Tracking\")\n",
    "    \n",
    "    #l_b = np.array([l_h, l_s, l_v])\n",
    "    #u_b = np.array([u_h, u_s, u_v])\n",
    "    \n",
    "    l_b = np.array([15, 96, 254])\n",
    "    u_b = np.array([15, 96, 254])\n",
    "    # convert BGR to HSV\n",
    "    imgHSV = cv2.cvtColor(img, cv2.COLOR_BGR2HSV)\n",
    "    # create the Mask\n",
    "    mask = cv2.inRange(imgHSV, l_b, u_b)\n",
    "    \n",
    "    # inverse mask\n",
    "    mask = 255-mask\n",
    "    kernal = np.ones((8,8), np.uint8)\n",
    "    #dilation\n",
    "    #kernal travels through image. If at least one pixel under the kernal is foreground,\n",
    "    #every pixel under the kernel is set to foreground\n",
    "    closing = cv2.morphologyEx(mask, cv2.MORPH_CLOSE, kernal)\n",
    "    res = cv2.bitwise_and(img, img, mask=closing)\n",
    "\n",
    "    cv2.imshow(\"mask\", closing)\n",
    "    cv2.imshow(\"cam\", img)\n",
    "    cv2.imshow('res', res)\n",
    "    \n",
    "    key = cv2.waitKey(1)\n",
    "    if key ==27:\n",
    "        break\n",
    "\n",
    "cv2.destroyAllWindows()"
   ]
  },
  {
   "cell_type": "code",
   "execution_count": 2,
   "id": "6090b649",
   "metadata": {},
   "outputs": [
    {
     "data": {
      "text/plain": [
       "array([[ 15,  96, 254],\n",
       "       [ 15,  96, 254],\n",
       "       [ 15,  96, 254],\n",
       "       ...,\n",
       "       [ 15,  96, 254],\n",
       "       [ 15,  96, 254],\n",
       "       [ 15,  98, 253]], dtype=uint8)"
      ]
     },
     "execution_count": 2,
     "metadata": {},
     "output_type": "execute_result"
    }
   ],
   "source": [
    "imgHSV[0]"
   ]
  },
  {
   "cell_type": "code",
   "execution_count": 3,
   "id": "a016e2e9",
   "metadata": {},
   "outputs": [],
   "source": [
    "cc = cv2.connectedComponentsWithStats(closing, 8, cv2.CV_32S) "
   ]
  },
  {
   "cell_type": "code",
   "execution_count": 4,
   "id": "5914bb61",
   "metadata": {},
   "outputs": [
    {
     "name": "stdout",
     "output_type": "stream",
     "text": [
      "8\n"
     ]
    }
   ],
   "source": [
    "num_labels = cc[0]-1\n",
    "print(num_labels)"
   ]
  },
  {
   "cell_type": "code",
   "execution_count": 5,
   "id": "be6f3177",
   "metadata": {
    "scrolled": true
   },
   "outputs": [
    {
     "data": {
      "text/plain": [
       "array([[255, 255, 255, ..., 255, 255, 255],\n",
       "       [255, 255, 255, ..., 255, 255, 255],\n",
       "       [255, 255, 255, ..., 255, 255, 255],\n",
       "       ...,\n",
       "       [255, 255, 255, ..., 255, 255, 255],\n",
       "       [255, 255, 255, ..., 255, 255, 255],\n",
       "       [255, 255, 255, ..., 255, 255, 255]], dtype=int32)"
      ]
     },
     "execution_count": 5,
     "metadata": {},
     "output_type": "execute_result"
    }
   ],
   "source": [
    "circle_masks = []\n",
    "for label in range(cc[0]):\n",
    "    temp = np.zeros_like(cc[1])\n",
    "    temp[cc[1] == label] = 255\n",
    "    circle_masks.append(temp)\n",
    "circle_masks.pop(0)"
   ]
  },
  {
   "cell_type": "code",
   "execution_count": 12,
   "id": "84d4ba05",
   "metadata": {},
   "outputs": [],
   "source": [
    "colored_circle_masks = []\n",
    "masked_images_list = []\n",
    "\n",
    "# Iterate through each mask and extract the masked pixels from the image\n",
    "for i in range(len(circle_masks)):\n",
    "    mask = circle_masks[i]\n",
    "    masked_image = np.zeros_like(img)\n",
    "    masked_image[mask==255] = img[mask==255]\n",
    "    colored_circle_masks.append(masked_image)\n",
    "    "
   ]
  },
  {
   "cell_type": "code",
   "execution_count": 17,
   "id": "00503f42",
   "metadata": {},
   "outputs": [
    {
     "data": {
      "text/plain": [
       "<matplotlib.image.AxesImage at 0x279686e9310>"
      ]
     },
     "execution_count": 17,
     "metadata": {},
     "output_type": "execute_result"
    },
    {
     "data": {
      "image/png": "[encoded data removed]",
      "text/plain": [
       "<Figure size 640x480 with 1 Axes>"
      ]
     },
     "metadata": {},
     "output_type": "display_data"
    }
   ],
   "source": [
    "plt.imshow(colored_circle_masks[4])"
   ]
  }
 ],
 "metadata": {
  "kernelspec": {
   "display_name": "Python 3 (ipykernel)",
   "language": "python",
   "name": "python3"
  },
  "language_info": {
   "codemirror_mode": {
    "name": "ipython",
    "version": 3
   },
   "file_extension": ".py",
   "mimetype": "text/x-python",
   "name": "python",
   "nbconvert_exporter": "python",
   "pygments_lexer": "ipython3",
   "version": "3.9.11"
  }
 },
 "nbformat": 4,
 "nbformat_minor": 5
}
